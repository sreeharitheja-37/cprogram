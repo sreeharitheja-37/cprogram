{
  "nbformat": 4,
  "nbformat_minor": 0,
  "metadata": {
    "colab": {
      "name": "Module 1 programs.ipynb",
      "provenance": [],
      "include_colab_link": true
    },
    "kernelspec": {
      "name": "python3",
      "display_name": "Python 3"
    },
    "language_info": {
      "name": "python"
    }
  },
  "cells": [
    {
      "cell_type": "markdown",
      "metadata": {
        "id": "view-in-github",
        "colab_type": "text"
      },
      "source": [
        "<a href=\"https://colab.research.google.com/github/sreeharitheja-37/cprogram/blob/main/Module_1.ipynb\" target=\"_parent\"><img src=\"https://colab.research.google.com/assets/colab-badge.svg\" alt=\"Open In Colab\"/></a>"
      ]
    },
    {
      "cell_type": "code",
      "execution_count": 1,
      "metadata": {
        "colab": {
          "base_uri": "https://localhost:8080/"
        },
        "id": "ONxmh3-5SMxM",
        "outputId": "65044f1b-11ce-4240-dc13-19951a4b4a16"
      },
      "outputs": [
        {
          "output_type": "stream",
          "name": "stdout",
          "text": [
            "enter any number3\n",
            "3\n"
          ]
        }
      ],
      "source": [
        "a=int(input(\"enter any number\"))\n",
        "print(a)"
      ]
    },
    {
      "cell_type": "code",
      "source": [
        "#fabonacci series\n",
        "n=int(input(\"enter a number \"))\n",
        "a=0\n",
        "b=1\n",
        "print(a,b, end =\" \")\n",
        "for i in range(n-2):\n",
        "  c=a+b\n",
        "  print(c, end=\" \")\n",
        "  a=b\n",
        "  b=c"
      ],
      "metadata": {
        "id": "P-mKKccacOII",
        "outputId": "4b0bc494-8418-40cb-ac09-26d86591b965",
        "colab": {
          "base_uri": "https://localhost:8080/"
        }
      },
      "execution_count": 2,
      "outputs": [
        {
          "output_type": "stream",
          "name": "stdout",
          "text": [
            "enter a number 9\n",
            "0 1 1 2 3 5 8 13 21 "
          ]
        }
      ]
    },
    {
      "cell_type": "code",
      "source": [
        "#strong number\n",
        "n=int(input(\"enter a number: \"))\n",
        "t=n\n",
        "sum=0\n",
        "while(n !=0):\n",
        "  r=n%10\n",
        "  f=1\n",
        "  while(r !=1):\n",
        "    f=f*r\n",
        "    r=r-1\n",
        "  sum=sum+f\n",
        "  n=n//10\n",
        "if(sum==t):\n",
        "  print(\"it is a strong number\")\n",
        "else:\n",
        "  print(\"it is not a strong number\")\n"
      ],
      "metadata": {
        "id": "k0HgZ-Exjs9R",
        "outputId": "6a390f56-a369-444b-a41e-21c74eb120ba",
        "colab": {
          "base_uri": "https://localhost:8080/"
        }
      },
      "execution_count": 3,
      "outputs": [
        {
          "output_type": "stream",
          "name": "stdout",
          "text": [
            "enter a number: 145\n",
            "it is a strong number\n"
          ]
        }
      ]
    },
    {
      "cell_type": "code",
      "source": [
        "# perfect number\n",
        "n=int(input(\"enter a number: \"))\n",
        "s=0\n",
        "for i in range(1,(n//2+1)):\n",
        "  if n%i == 0:\n",
        "    s+=i\n",
        "\n",
        "if(s == n):\n",
        "  print(\"perfect number\")\n",
        "else:\n",
        "  print(\"not a perfect number\")"
      ],
      "metadata": {
        "id": "CBUjhthfzV8F",
        "outputId": "76632e85-6456-42d2-c5fa-6f20182671b9",
        "colab": {
          "base_uri": "https://localhost:8080/"
        }
      },
      "execution_count": 4,
      "outputs": [
        {
          "output_type": "stream",
          "name": "stdout",
          "text": [
            "enter a number: 28\n",
            "perfect number\n"
          ]
        }
      ]
    },
    {
      "cell_type": "code",
      "source": [
        "# palindrome\n",
        "a=int(input(\"enter a number: \"))\n",
        "b=a\n",
        "rev=0\n",
        "while(a!=0):\n",
        "  r=a%10\n",
        "  rev=rev*10+r\n",
        "  a=a//10\n",
        "print(rev)\n",
        "if(rev==b):\n",
        "  print(\"palindrome\")\n",
        "else:\n",
        "  print(\"not a palindome\")"
      ],
      "metadata": {
        "id": "M5MrKnGK4LbM",
        "outputId": "a6f61a84-98db-45fb-ca27-70aa755e4161",
        "colab": {
          "base_uri": "https://localhost:8080/"
        }
      },
      "execution_count": 5,
      "outputs": [
        {
          "output_type": "stream",
          "name": "stdout",
          "text": [
            "enter a number: 353\n",
            "353\n",
            "palindrome\n"
          ]
        }
      ]
    },
    {
      "cell_type": "code",
      "source": [
        "#compound interest\n",
        "p=int(input(\" enter Amount :\"))\n",
        "r=int(input(\" enter rate :\"))\n",
        "t=int(input(\" enter time :\"))\n",
        "C=p*pow(1+r/100,t)-p\n",
        "print(\"compound intrest :\",C)"
      ],
      "metadata": {
        "id": "RSDjqZ2u4Yek",
        "outputId": "40e78bfe-9596-4aa4-9a35-391ccb5065f6",
        "colab": {
          "base_uri": "https://localhost:8080/"
        }
      },
      "execution_count": 6,
      "outputs": [
        {
          "output_type": "stream",
          "name": "stdout",
          "text": [
            " enter Amount :1000\n",
            " enter rate :4\n",
            " enter time :5\n",
            "compound intrest : 216.65290240000013\n"
          ]
        }
      ]
    },
    {
      "cell_type": "code",
      "source": [
        "#format\n",
        "a=\"My name is {fname}, I'm {age}\".format(fname = \"hari\", age = 19)\n",
        "print(a)"
      ],
      "metadata": {
        "colab": {
          "base_uri": "https://localhost:8080/"
        },
        "id": "Qt4vWN9oTWVu",
        "outputId": "ee96f104-433b-4418-a9ff-c42d278246a9"
      },
      "execution_count": 7,
      "outputs": [
        {
          "output_type": "stream",
          "name": "stdout",
          "text": [
            "My name is hari, I'm 19\n"
          ]
        }
      ]
    },
    {
      "cell_type": "code",
      "source": [
        "import builtins\n",
        "#Take 2 numbers as user input and add, multiply, divide, subtract, remainder and print\n",
        "#the output (Same operations on floating point input as well)\n",
        "a=float(input(\"enter a number\"))\n",
        "b=float(input(\"enter a number\"))\n",
        "c=a+b\n",
        "d=a-b\n",
        "e=a*b\n",
        "f=a/b\n",
        "g=a%b\n",
        "print(\"sum= \",c)\n",
        "print(\"subtract= \",d)\n",
        "print(\"product= \",e)\n",
        "print(\"division= \",f)\n",
        "print(\"remainder= \",g)"
      ],
      "metadata": {
        "colab": {
          "base_uri": "https://localhost:8080/"
        },
        "id": "IjH2CHhEWHVf",
        "outputId": "f9644c93-b1f3-4832-b508-217c2a7591bd"
      },
      "execution_count": 10,
      "outputs": [
        {
          "output_type": "stream",
          "name": "stdout",
          "text": [
            "enter a number6\n",
            "enter a number5\n",
            "sum=  11.0\n",
            "subtract=  1.0\n",
            "product=  30.0\n",
            "division=  1.2\n",
            "remainder=  1.0\n"
          ]
        }
      ]
    },
    {
      "cell_type": "code",
      "source": [
        "#Conversion of one unit to another (such as hours to minutes, miles to km and etc)\n",
        "a=float(input(\"enter hours\"))\n",
        "print(\"minutes are= \",a*60)\n",
        "b=float(input(\"enter miles\"))\n",
        "print(\"km are= \",b*1.6)"
      ],
      "metadata": {
        "colab": {
          "base_uri": "https://localhost:8080/"
        },
        "id": "hq_ykyegXxf1",
        "outputId": "9e3091a8-0edc-4ccc-b3c5-d7de08148c38"
      },
      "execution_count": 11,
      "outputs": [
        {
          "output_type": "stream",
          "name": "stdout",
          "text": [
            "enter hours3\n",
            "minutes are=  180.0\n",
            "enter miles7\n",
            "km are=  11.200000000000001\n"
          ]
        }
      ]
    },
    {
      "cell_type": "code",
      "source": [
        "999#Accepting 5 different subject marks from user and displaying the grade of the student\n",
        "s1=float(input(\"enter marks\"))\n",
        "s2=float(input(\"enter marks\"))\n",
        "s3=float(input(\"enter marks\"))\n",
        "s4=float(input(\"enter marks\"))\n",
        "s5=float(input(\"enter marks\"))\n",
        "avg=(s1+s2+s3+s4+s5)/5\n",
        "if avg>=90:\n",
        "  print(\"a grade\")\n",
        "elif avg>=80:\n",
        "  print(\"b grade\")\n",
        "elif avg>=70:\n",
        "  print(\"c grade\")\n",
        "elif avg>=60:\n",
        "  print(\"d grade\")\n",
        "else:\n",
        "  print(\"fail\")"
      ],
      "metadata": {
        "colab": {
          "base_uri": "https://localhost:8080/"
        },
        "id": "2mBysrEMYjat",
        "outputId": "e3a4bc2e-44b1-4c10-dc4a-348520bd8e87"
      },
      "execution_count": 13,
      "outputs": [
        {
          "output_type": "stream",
          "name": "stdout",
          "text": [
            "enter marks80\n",
            "enter marks100\n",
            "enter marks90\n",
            "enter marks95\n",
            "enter marks90\n",
            "a grade\n"
          ]
        }
      ]
    },
    {
      "cell_type": "code",
      "source": [
        "#Usage of mathematical functions in python like math.ceil, floor, fabs, fmod, trunc,\n",
        "#pow, sqrt etc\n",
        "import math\n",
        "a=float(input(\"enter a number \"))\n",
        "print(math.ceil(a))\n",
        "print(math.floor(a))\n",
        "print(math.fabs(a))\n",
        "print(math.trunc(a))\n",
        "print(math.sqrt(a))\n",
        "b=float(input(\"enter a number\"))\n",
        "c=float(input(\"enter a number \"))\n",
        "print(math.fmod(b,c))\n",
        "print(math.pow(b,c))"
      ],
      "metadata": {
        "colab": {
          "base_uri": "https://localhost:8080/"
        },
        "id": "lWCKLut3aapD",
        "outputId": "e5ee17f8-dad5-4782-dbc3-cfd38ce353be"
      },
      "execution_count": 12,
      "outputs": [
        {
          "output_type": "stream",
          "name": "stdout",
          "text": [
            "enter a number 12.3\n",
            "13\n",
            "12\n",
            "12.3\n",
            "12\n",
            "3.5071355833500366\n",
            "enter a number5.6\n",
            "enter a number 4\n",
            "1.5999999999999996\n",
            "983.4495999999998\n"
          ]
        }
      ]
    },
    {
      "cell_type": "code",
      "source": [
        "9#Building a mathematical calculator that can perform operations according to user input.\n",
        "#Use decision making statement.\n",
        "a=float(input(\"enter number \"))\n",
        "b=float(input(\"enter a number \"))\n",
        "o=input(\"enter opeation\")\n",
        "if o==\"sum\":\n",
        "  print(a+b)\n",
        "elif o==\"subtract\":\n",
        "  print(a-b)\n",
        "elif o==\"product\":\n",
        "  print(a*b)\n",
        "elif o==\"remainder\":\n",
        "  print(a%b)\n",
        "else:\n",
        "  print(a/b)\n"
      ],
      "metadata": {
        "colab": {
          "base_uri": "https://localhost:8080/"
        },
        "id": "onk6sbhpdXny",
        "outputId": "4359ee5d-d944-477b-b1c4-f13c9594bf1c"
      },
      "execution_count": 15,
      "outputs": [
        {
          "output_type": "stream",
          "name": "stdout",
          "text": [
            "enter number 6\n",
            "enter a number 9\n",
            "enter opeationsum\n",
            "15.0\n"
          ]
        }
      ]
    },
    {
      "cell_type": "code",
      "source": [
        "#Printing all even numbers, odd numbers, count of even numbers, count of odd numbers\n",
        "#within a given range.\n",
        "n=int(input(\"enter range \"))\n",
        "c=0\n",
        "for i in range(1,n+1):\n",
        " if i%2==0:\n",
        "   c+=1\n",
        "   print(i)\n",
        "\n",
        "\n",
        "print(\"even count is \",c)\n",
        "\n",
        "d=0\n",
        "for i in range(1,n+1):\n",
        "  if i%2!=0: \n",
        "    d+=1\n",
        "    print(i)\n",
        "\n",
        "print(\"odd count is \",d)\n"
      ],
      "metadata": {
        "colab": {
          "base_uri": "https://localhost:8080/"
        },
        "id": "r3pT8fmue8wM",
        "outputId": "c7a340c8-c06d-41d3-d84c-34ea2df8d1a7"
      },
      "execution_count": 16,
      "outputs": [
        {
          "output_type": "stream",
          "name": "stdout",
          "text": [
            "enter range 8\n",
            "2\n",
            "4\n",
            "6\n",
            "8\n",
            "even count is  4\n",
            "1\n",
            "3\n",
            "5\n",
            "7\n",
            "odd count is  4\n"
          ]
        }
      ]
    },
    {
      "cell_type": "code",
      "source": [
        "#factorial of a given number.\n",
        "n=int(input(\"enter a number \"))\n",
        "fac=1\n",
        "for i in range(1,n+1):\n",
        "  fac=fac*i\n",
        "\n",
        "print(fac)"
      ],
      "metadata": {
        "colab": {
          "base_uri": "https://localhost:8080/"
        },
        "id": "m6ZD2rkwjICB",
        "outputId": "66c8f0e9-a49e-4487-fb01-1378cbbd7ca0"
      },
      "execution_count": 17,
      "outputs": [
        {
          "output_type": "stream",
          "name": "stdout",
          "text": [
            "enter a number 5\n",
            "120\n"
          ]
        }
      ]
    },
    {
      "cell_type": "code",
      "source": [
        "6#Compute GCD of two given \n",
        "a=int(input(\"enter a number\"))\n",
        "b=int(input(\"enter a number\"))\n",
        "k=a if a<b else b\n",
        "while True:\n",
        "    if a%k==0 and b%k==0:\n",
        "     break\n",
        "    k -=1\n",
        "print(k)\n"
      ],
      "metadata": {
        "colab": {
          "base_uri": "https://localhost:8080/"
        },
        "id": "4xkhiTQykE6Q",
        "outputId": "c0ce4fc9-72bc-4ce8-e721-e8b45dc22002"
      },
      "execution_count": 18,
      "outputs": [
        {
          "output_type": "stream",
          "name": "stdout",
          "text": [
            "enter a number4\n",
            "enter a number6\n",
            "2\n"
          ]
        }
      ]
    }
  ]
}