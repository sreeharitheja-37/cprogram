{
  "nbformat": 4,
  "nbformat_minor": 0,
  "metadata": {
    "colab": {
      "name": "list.ipynb",
      "provenance": [],
      "authorship_tag": "ABX9TyN/6JFvccNlCl9LOgOuSt5c",
      "include_colab_link": true
    },
    "kernelspec": {
      "name": "python3",
      "display_name": "Python 3"
    },
    "language_info": {
      "name": "python"
    }
  },
  "cells": [
    {
      "cell_type": "markdown",
      "metadata": {
        "id": "view-in-github",
        "colab_type": "text"
      },
      "source": [
        "<a href=\"https://colab.research.google.com/github/sreeharitheja-37/cprogram/blob/main/list.ipynb\" target=\"_parent\"><img src=\"https://colab.research.google.com/assets/colab-badge.svg\" alt=\"Open In Colab\"/></a>"
      ]
    },
    {
      "cell_type": "code",
      "execution_count": 47,
      "metadata": {
        "colab": {
          "base_uri": "https://localhost:8080/"
        },
        "id": "3MX4-Bx-4ulC",
        "outputId": "1c5981de-5898-45b6-f52f-804806dd195d"
      },
      "outputs": [
        {
          "output_type": "stream",
          "name": "stdout",
          "text": [
            "papaya\n",
            "['mango', 'apple', 'papaya']\n",
            "['mango', 'apple', 'papaya', 'watermelon', 'orange', 'grapes']\n",
            "['mango', 'apple', 'muskmelon', 'papaya', 'watermelon', 'orange', 'grapes']\n",
            "['grapes', 'orange', 'watermelon', 'papaya', 'muskmelon', 'apple', 'mango']\n",
            "['apple', 'grapes', 'mango', 'muskmelon', 'orange', 'papaya', 'watermelon']\n",
            "['apple', 'grapes', 'mango', 'muskmelon', 'orange', 'papaya']\n"
          ]
        }
      ],
      "source": [
        "#list\n",
        "fruit=['mango','apple','papaya','watermelon','orange']\n",
        "print(fruit[2])\n",
        "print(fruit[0:3])\n",
        "fruit.append('grapes')\n",
        "print(fruit)\n",
        "fruit.insert(2,'muskmelon')\n",
        "print(fruit)\n",
        "fruit.reverse()\n",
        "print(fruit)\n",
        "len(fruit)\n",
        "fruit.sort()\n",
        "print(fruit)\n",
        "fruit.pop()\n",
        "print(fruit)"
      ]
    },
    {
      "cell_type": "code",
      "source": [
        "list=[1,2,3,4,5]\n",
        "print(list[3])\n",
        "list[0:2]\n"
      ],
      "metadata": {
        "colab": {
          "base_uri": "https://localhost:8080/"
        },
        "id": "hz2U4zqK_SB0",
        "outputId": "21463f17-4ba8-45da-93ca-89659344c9f5"
      },
      "execution_count": 29,
      "outputs": [
        {
          "output_type": "stream",
          "name": "stdout",
          "text": [
            "4\n"
          ]
        },
        {
          "output_type": "execute_result",
          "data": {
            "text/plain": [
              "[1, 2]"
            ]
          },
          "metadata": {},
          "execution_count": 29
        }
      ]
    },
    {
      "cell_type": "code",
      "source": [
        "list=[1,2,3,4,5]\n",
        "print(list)\n",
        "list.append(7)\n",
        "print(list)\n",
        "list.insert(0,9)\n",
        "print(list)"
      ],
      "metadata": {
        "colab": {
          "base_uri": "https://localhost:8080/"
        },
        "id": "Qb6NbRToHGek",
        "outputId": "4039f798-cb04-492c-ee04-cd6689c17521"
      },
      "execution_count": 38,
      "outputs": [
        {
          "output_type": "stream",
          "name": "stdout",
          "text": [
            "[1, 2, 3, 4, 5]\n",
            "[1, 2, 3, 4, 5, 7]\n",
            "[9, 1, 2, 3, 4, 5, 7]\n"
          ]
        }
      ]
    }
  ]
}