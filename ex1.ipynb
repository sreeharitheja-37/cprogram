{
  "nbformat": 4,
  "nbformat_minor": 0,
  "metadata": {
    "colab": {
      "name": "ex1.ipynb",
      "provenance": [],
      "authorship_tag": "ABX9TyMSJIchDj/STYhRuoAlSMXL",
      "include_colab_link": true
    },
    "kernelspec": {
      "name": "python3",
      "display_name": "Python 3"
    },
    "language_info": {
      "name": "python"
    }
  },
  "cells": [
    {
      "cell_type": "markdown",
      "metadata": {
        "id": "view-in-github",
        "colab_type": "text"
      },
      "source": [
        "<a href=\"https://colab.research.google.com/github/sreeharitheja-37/cprogram/blob/main/ex1.ipynb\" target=\"_parent\"><img src=\"https://colab.research.google.com/assets/colab-badge.svg\" alt=\"Open In Colab\"/></a>"
      ]
    },
    {
      "cell_type": "code",
      "execution_count": 9,
      "metadata": {
        "id": "dR9eS5GOSDlC",
        "colab": {
          "base_uri": "https://localhost:8080/"
        },
        "outputId": "698ee80c-c827-424e-c192-eaabe55be6a9"
      },
      "outputs": [
        {
          "output_type": "stream",
          "name": "stdout",
          "text": [
            "enter hours3\n",
            "180 seconds\n",
            "enter miles4\n",
            "6.4 km\n"
          ]
        }
      ],
      "source": [
        "#coversion\n",
        "hours=int(input(\"enter hours\")) \n",
        "minutes=hours*60 \n",
        "print(minutes,\"seconds\")\n",
        "miles=int(input(\"enter miles\"))\n",
        "kms=miles*1.6\n",
        "print(kms,\"km\")"
      ]
    },
    {
      "cell_type": "code",
      "source": [
        "import math\n",
        "\n",
        "x = math.ceil(1.4)\n",
        "y = math.floor(1.4)\n",
        "\n",
        "print(x) # returns 2\n",
        "print(y) # returns 1"
      ],
      "metadata": {
        "colab": {
          "base_uri": "https://localhost:8080/"
        },
        "id": "FAoHvqM3btnw",
        "outputId": "11128819-599a-4488-f62a-4452fa67f142"
      },
      "execution_count": 11,
      "outputs": [
        {
          "output_type": "stream",
          "name": "stdout",
          "text": [
            "2\n",
            "1\n"
          ]
        }
      ]
    },
    {
      "cell_type": "code",
      "source": [
        "#math operations\n",
        "import math\n",
        "x=float(input(\"enter num\"))\n",
        "y=float(input(\"enter\"))\n",
        "print(math.ceil(x))\n",
        "print(math.floor(x))\n",
        "print(math.fabs(x))\n",
        "print(math.trunc(x))\n",
        "print(math.sqrt(x))\n",
        "print(math.pow(x,y))\n",
        "print(math.fmod(x,y))"
      ],
      "metadata": {
        "colab": {
          "base_uri": "https://localhost:8080/"
        },
        "id": "-Ek32zw2dfYZ",
        "outputId": "c81249b4-d4a6-4ec9-c639-e8ddf8c6550e"
      },
      "execution_count": 21,
      "outputs": [
        {
          "output_type": "stream",
          "name": "stdout",
          "text": [
            "enter num2.4\n",
            "enter3\n",
            "3\n",
            "2\n",
            "2.4\n",
            "2\n",
            "1.5491933384829668\n",
            "13.823999999999998\n",
            "2.4\n"
          ]
        }
      ]
    },
    {
      "cell_type": "code",
      "source": [
        "#building calculator\n",
        "a=int(input(\"enter a\"))\n",
        "b=int(input(\"enter b\"))\n",
        "operation=input(\"enter\")\n",
        "if operation=='+':\n",
        " print(\"sum= \",a+b)\n",
        "elif operation=='-':\n",
        " print(\"difference= \",a-b)\n",
        "elif operation=='*':\n",
        " print(\"product= \",a*b)\n",
        "elif operation=='/':\n",
        " print(\"div= \",a/b)"
      ],
      "metadata": {
        "colab": {
          "base_uri": "https://localhost:8080/"
        },
        "id": "pPbu1-zEhh7Q",
        "outputId": "64b68e45-df8e-4077-fd1d-b4411a5a37c8"
      },
      "execution_count": 24,
      "outputs": [
        {
          "output_type": "stream",
          "name": "stdout",
          "text": [
            "enter a3\n",
            "enter b2\n",
            "enter/\n",
            "div=  1.5\n"
          ]
        }
      ]
    }
  ]
}