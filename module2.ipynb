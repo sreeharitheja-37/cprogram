{
  "nbformat": 4,
  "nbformat_minor": 0,
  "metadata": {
    "colab": {
      "name": "module2.ipynb",
      "provenance": [],
      "authorship_tag": "ABX9TyNyrjizEogvg9UBmRlJj9IJ",
      "include_colab_link": true
    },
    "kernelspec": {
      "name": "python3",
      "display_name": "Python 3"
    },
    "language_info": {
      "name": "python"
    }
  },
  "cells": [
    {
      "cell_type": "markdown",
      "metadata": {
        "id": "view-in-github",
        "colab_type": "text"
      },
      "source": [
        "<a href=\"https://colab.research.google.com/github/sreeharitheja-37/cprogram/blob/main/module2.ipynb\" target=\"_parent\"><img src=\"https://colab.research.google.com/assets/colab-badge.svg\" alt=\"Open In Colab\"/></a>"
      ]
    },
    {
      "cell_type": "code",
      "execution_count": 28,
      "metadata": {
        "id": "iVudSR6TGebS",
        "colab": {
          "base_uri": "https://localhost:8080/"
        },
        "outputId": "1512cb55-3a66-47c3-a4ad-b4e92d655b28"
      },
      "outputs": [
        {
          "output_type": "stream",
          "name": "stdout",
          "text": [
            "enter name hari\n",
            "age 19\n",
            "gender m\n",
            "eligible\n"
          ]
        }
      ],
      "source": [
        "def voting(name,age,gender):\n",
        "  print('name=',name,'age=',age,'gender=',gender)\n",
        "name=str(input(\"enter name \"))\n",
        "age=int(input(\"age \"))\n",
        "gender=str(input(\"gender \"))\n",
        "if age>18:\n",
        "   print(\"eligible\")\n",
        "else:\n",
        "   print(\"not eligible\")  \n"
      ]
    },
    {
      "cell_type": "code",
      "source": [
        "def diff():\n",
        "list1=[1,2,3]\n",
        "list1=[3,5,6]\n",
        "set1=set(list1)\n",
        "set2=set(list2)\n",
        "set3=set1.difference(set2)\n",
        "list3=list(set3)"
      ],
      "metadata": {
        "id": "LXiMAduZUVLm"
      },
      "execution_count": null,
      "outputs": []
    },
    {
      "cell_type": "code",
      "source": [
        ""
      ],
      "metadata": {
        "id": "jgoNa6uwSmFm"
      },
      "execution_count": null,
      "outputs": []
    }
  ]
}