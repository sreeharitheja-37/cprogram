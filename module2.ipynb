{
  "nbformat": 4,
  "nbformat_minor": 0,
  "metadata": {
    "colab": {
      "name": "module2.ipynb",
      "provenance": [],
      "authorship_tag": "ABX9TyPmIGwAtyBZqZrD4FOKLqO8",
      "include_colab_link": true
    },
    "kernelspec": {
      "name": "python3",
      "display_name": "Python 3"
    },
    "language_info": {
      "name": "python"
    }
  },
  "cells": [
    {
      "cell_type": "markdown",
      "metadata": {
        "id": "view-in-github",
        "colab_type": "text"
      },
      "source": [
        "<a href=\"https://colab.research.google.com/github/sreeharitheja-37/cprogram/blob/main/module2.ipynb\" target=\"_parent\"><img src=\"https://colab.research.google.com/assets/colab-badge.svg\" alt=\"Open In Colab\"/></a>"
      ]
    },
    {
      "cell_type": "code",
      "execution_count": 7,
      "metadata": {
        "colab": {
          "base_uri": "https://localhost:8080/"
        },
        "id": "FOdshetjO8MB",
        "outputId": "270e8c56-f1f8-4853-d737-79aec9fb9f9f"
      },
      "outputs": [
        {
          "output_type": "stream",
          "name": "stdout",
          "text": [
            "not eligible\n"
          ]
        }
      ],
      "source": [
        "##find out the person is eligible or not(static)\n",
        "a=17\n",
        "if a>=18:\n",
        " print(\"eligible\") \n",
        "else:\n",
        " print(\"not eligible\")"
      ]
    },
    {
      "cell_type": "code",
      "source": [
        "#dynamic\n",
        "a=int(input(\"enter\"))\n",
        "if a>=18:\n",
        " print(\"eligible\") \n",
        "else:\n",
        " print(\"not eligible\")"
      ],
      "metadata": {
        "colab": {
          "base_uri": "https://localhost:8080/"
        },
        "id": "CAc751sCR2ac",
        "outputId": "8317a32d-b43d-4b85-b219-9e332f224b13"
      },
      "execution_count": 12,
      "outputs": [
        {
          "output_type": "stream",
          "name": "stdout",
          "text": [
            "enter19\n",
            "eligible\n"
          ]
        }
      ]
    },
    {
      "cell_type": "code",
      "source": [
        "#highest of 3\n",
        "a=int(input(\"entr a\"))\n",
        "b=int(input(\"entr b\"))\n",
        "c=int(input(\"entr c\"))\n",
        "if a>b and a>c:\n",
        "  print(\"a is greater\")\n",
        "elif b>a and b>c:\n",
        "  print(\"b is greater\")\n",
        "else:\n",
        "  print(\"c is greater\")  "
      ],
      "metadata": {
        "colab": {
          "base_uri": "https://localhost:8080/"
        },
        "id": "yhxUz5OeS4uK",
        "outputId": "0b05c4ef-ab29-4e7c-fc1d-2ce43b104c6e"
      },
      "execution_count": 13,
      "outputs": [
        {
          "output_type": "stream",
          "name": "stdout",
          "text": [
            "entr a1\n",
            "entr b2\n",
            "entr c3\n",
            "c is greater\n"
          ]
        }
      ]
    },
    {
      "cell_type": "code",
      "source": [
        "#check whether triangle is isosceles or equilateral or scalen\n",
        "a=int(input(\"enter a\"))\n",
        "b=int(input(\"enter b\"))\n",
        "c=int(input(\"enter c\"))\n",
        "if a==b==c:\n",
        "  print(\"equilateral\")\n",
        "elif a!=b!=c:\n",
        "  print(\"scalene\")  \n",
        "else:\n",
        "  print(\"isosceles\")  "
      ],
      "metadata": {
        "colab": {
          "base_uri": "https://localhost:8080/"
        },
        "id": "a_Fb_QWHWAUq",
        "outputId": "5d4936c5-abb3-4f6f-b0bd-c03ac0479698"
      },
      "execution_count": 17,
      "outputs": [
        {
          "output_type": "stream",
          "name": "stdout",
          "text": [
            "enter a1\n",
            "enter b2\n",
            "enter c2\n",
            "isosceles\n"
          ]
        }
      ]
    },
    {
      "cell_type": "code",
      "source": [
        "#leap  year\n",
        "a=int(input(\"year\"))\n",
        "if (a%4==0 and a%400==0) or a%100!=0:\n",
        "  print(\"leapyear\")\n",
        "else:\n",
        "  print(\"not leap year\")   "
      ],
      "metadata": {
        "colab": {
          "base_uri": "https://localhost:8080/"
        },
        "id": "cywxuHFpXV6C",
        "outputId": "7dad93d0-686b-4d7d-c971-73f0b2823392"
      },
      "execution_count": 21,
      "outputs": [
        {
          "output_type": "stream",
          "name": "stdout",
          "text": [
            "year1000\n",
            "not leap year\n"
          ]
        }
      ]
    },
    {
      "cell_type": "code",
      "source": [
        "#minimum of 3 nums\n",
        "a=int(input(\"entr a\"))\n",
        "b=int(input(\"entr b\"))\n",
        "c=int(input(\"entr c\"))\n",
        "if a<b and a<c:\n",
        "  print(\"a is minimum\")\n",
        "elif b<a and b<c:\n",
        "  print(\"b is minimum\")\n",
        "else:\n",
        "  print(\"c is minimum\")  "
      ],
      "metadata": {
        "colab": {
          "base_uri": "https://localhost:8080/"
        },
        "id": "BaD5taZ7aafJ",
        "outputId": "7a28a5f5-300f-4322-8518-234b4924f85b"
      },
      "execution_count": 22,
      "outputs": [
        {
          "output_type": "stream",
          "name": "stdout",
          "text": [
            "entr a1\n",
            "entr b2\n",
            "entr c3\n",
            "a is minimum\n"
          ]
        }
      ]
    },
    {
      "cell_type": "code",
      "source": [
        "# divisible by 5 and 11\n",
        "a=int(input(\"enter a\"))\n",
        "if a%5==0 and a%11==0:\n",
        "   print(\"divisible\")\n",
        "else:\n",
        "  print(\"not divisible\")"
      ],
      "metadata": {
        "colab": {
          "base_uri": "https://localhost:8080/"
        },
        "id": "uQuQJh3HbJi5",
        "outputId": "fb7c08c5-82c2-449d-874c-363d2f67cd14"
      },
      "execution_count": 23,
      "outputs": [
        {
          "output_type": "stream",
          "name": "stdout",
          "text": [
            "enter a55\n",
            "divisible\n"
          ]
        }
      ]
    },
    {
      "cell_type": "code",
      "source": [
        "#roots of quadratic equation\n",
        "import math\n",
        "a=int(input(\"entr a\"))\n",
        "b=int(input(\"entr b\"))\n",
        "c=int(input(\"entr c\"))\n",
        "d=(b**2)-4*a*c\n",
        "if d>0:\n",
        "  sol1=-b+sqrt()\n"
      ],
      "metadata": {
        "id": "dEWNvTpdbtlC"
      },
      "execution_count": null,
      "outputs": []
    }
  ]
}