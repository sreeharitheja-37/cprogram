{
  "nbformat": 4,
  "nbformat_minor": 0,
  "metadata": {
    "colab": {
      "name": "python_1.ipynb",
      "provenance": [],
      "include_colab_link": true
    },
    "kernelspec": {
      "name": "python3",
      "display_name": "Python 3"
    },
    "language_info": {
      "name": "python"
    }
  },
  "cells": [
    {
      "cell_type": "markdown",
      "metadata": {
        "id": "view-in-github",
        "colab_type": "text"
      },
      "source": [
        "<a href=\"https://colab.research.google.com/github/sreeharitheja-37/cprogram/blob/main/assignment%203.ipynb\" target=\"_parent\"><img src=\"https://colab.research.google.com/assets/colab-badge.svg\" alt=\"Open In Colab\"/></a>"
      ]
    },
    {
      "cell_type": "code",
      "source": [
        "#write a progam to print prime numbers in given range by using functions(25,50).\n",
        "def prime(a,b):\n",
        "  for i in range(a,b+1):\n",
        "    sum=0\n",
        "    for n in range(1,i+1):\n",
        "      if i%n==0:\n",
        "         sum=sum+1\n",
        "    if sum==2:\n",
        "        print(i)\n",
        "a=int(input())\n",
        "b=int(input())\n",
        "prime(a,b)"
      ],
      "metadata": {
        "id": "-wNEW47PuDdV"
      },
      "execution_count": null,
      "outputs": []
    },
    {
      "cell_type": "code",
      "source": [
        "#write program to read any month in integer and display days for that month.\n",
        "a=int(input())\n",
        "if a==1 or a==3 or a==5 or a==7 or a==8 or a==10 or a==12:\n",
        "  print(\"31 Days\")\n",
        "elif a==4 or a==6 or a==9 or a==11:\n",
        "  print(\"30 days\")\n",
        "elif a==2:\n",
        "  print(\"28 or 29 days\")\n",
        "else:\n",
        "  print(\"wrong choice\")"
      ],
      "metadata": {
        "id": "0eY8mjDMuQx6"
      },
      "execution_count": null,
      "outputs": []
    },
    {
      "cell_type": "code",
      "source": [
        "#write a python program to print even length words in string.\n",
        "#   input:   \" this is a python class\"\n",
        "#  output: this\n",
        "#           is\n",
        "#           python\n",
        "a=str(input())\n",
        "b=a.split(' ')\n",
        "for i in b:\n",
        "  if len(i)%2==0:\n",
        "    print(i)\n",
        "\n",
        "\n"
      ],
      "metadata": {
        "id": "aB2vmyvUuXMh"
      },
      "execution_count": null,
      "outputs": []
    },
    {
      "cell_type": "code",
      "source": [
        "#write a program to read a string from user display first chacter of each word with capital letter.\n",
        "a=str(input())\n",
        "b=a.split(' ')\n",
        "for i in b:\n",
        "  x=i.capitalize()\n",
        "  print(x,end=\" \")\n"
      ],
      "metadata": {
        "id": "_Ym0kji9uX5C"
      },
      "execution_count": null,
      "outputs": []
    },
    {
      "cell_type": "code",
      "source": [
        "#write a python program to captalise the first and last of each word\n",
        "a=str(input())\n",
        "b=a.split(' ')\n",
        "z=\"\"\n",
        "for i in b:\n",
        "  x=i.capitalize()\n",
        "  y=i[-1].capitalize()\n",
        "  z=x[0:-1]+y\n",
        "  print(z,end=\" \")"
      ],
      "metadata": {
        "id": "zcas6XT3uedf"
      },
      "execution_count": null,
      "outputs": []
    },
    {
      "cell_type": "code",
      "source": [
        "#write a python program to convert a list of multiple integers into a single line.\n",
        " #   input:[11,22,33]\n",
        "#    output:112233\n",
        "a=eval(input())\n",
        "b=\"\"\n",
        "for i in a:\n",
        "  b+=str(i)\n",
        "print(b)"
      ],
      "metadata": {
        "id": "8HEgrMrsuhHm"
      },
      "execution_count": null,
      "outputs": []
    },
    {
      "cell_type": "code",
      "source": [
        "#write a python program to find power of number with recursion and without recursion(input n=2 , p=3)\n",
        "n=int(input())\n",
        "p=int(input())\n",
        "x=n**p\n",
        "print(x)"
      ],
      "metadata": {
        "id": "A3S2aIQcukAN"
      },
      "execution_count": null,
      "outputs": []
    },
    {
      "cell_type": "code",
      "source": [
        "def power(n,p):\n",
        "  if p==0:\n",
        "    return 1\n",
        "  if p!=0:\n",
        "    return(n*power(n,p-1))\n",
        "n=int(input())\n",
        "p=int(input())\n",
        "print(power(n,p))"
      ],
      "metadata": {
        "id": "V0cA6AVjxyOc"
      },
      "execution_count": null,
      "outputs": []
    },
    {
      "cell_type": "code",
      "source": [
        "#write a program to sort tuple by total digits (input: list=[(3,4,6,723),(1,2),(134,234,34)])\n",
        "#output:[(1,2)(3,4,6,723)(34,134,234)]\n",
        "list=[(3,4,6,723),(1,2),(134,234,34)]\n",
        "list.sort()\n",
        "print(list)\n"
      ],
      "metadata": {
        "id": "9j1Xl-ckKIr7"
      },
      "execution_count": null,
      "outputs": []
    },
    {
      "cell_type": "code",
      "source": [
        "#take five subjects from the user and display the grade of the student,if average is 90-100(o),80-89(a+),70-79(a),\n",
        "a=0\n",
        "n=int(input())\n",
        "for i in range(1,n+1):\n",
        "  x=int(input())\n",
        "  a = a + x\n",
        "avg= a/n\n",
        "if avg>=90 and avg<=100:\n",
        "  print(\"O grade\")\n",
        "if avg>=80 and avg<=89:\n",
        "  print(\"A+ grade\")\n",
        "if avg>=70 and avg<=79:\n",
        "  print(\"A grade\")\n",
        "if avg>=60 and avg<=69:\n",
        "  print(\"B grade\")\n",
        "if avg>=50 and avg<=59:\n",
        "  print(\"C grade\")\n",
        "if avg<=49:\n",
        "  print(\"fail\")\n"
      ],
      "metadata": {
        "id": "Ud3gN3r6KyiM"
      },
      "execution_count": null,
      "outputs": []
    },
    {
      "cell_type": "code",
      "source": [
        "#write a python program that prints 1 if all three given numbers are ascending order.\n",
        "a=float(input())\n",
        "b=float(input())\n",
        "c=float(input())\n",
        "if a<b and b<c and a<c:\n",
        "  print(\"1\")\n",
        "else:\n",
        "  print(\"0\")"
      ],
      "metadata": {
        "id": "SNNH9RwpLRb9"
      },
      "execution_count": null,
      "outputs": []
    },
    {
      "cell_type": "code",
      "source": [
        "#check a given number is perfect number are not\n",
        "n=int(input())\n",
        "sum=0\n",
        "for i in range(1,n):\n",
        "  if n%i==0:\n",
        "    sum=sum+i\n",
        "if sum==n:\n",
        "  print(\"perfect number\")\n",
        "else:\n",
        "  print(\"not a perfect number\")\n",
        "\n"
      ],
      "metadata": {
        "id": "BiKYMm_9LvQM"
      },
      "execution_count": null,
      "outputs": []
    },
    {
      "cell_type": "code",
      "source": [
        "#check a given integer is a pallindrome or not\n",
        "n=int(input())\n",
        "y=n\n",
        "sum=0\n",
        "while n>0:\n",
        "  d=n%10\n",
        "  sum=sum*10+d\n",
        "  n=n//10\n",
        "if sum==y:\n",
        "  print(\"pallindrome\")\n",
        "else:\n",
        "  print(\"not a pallindrome\")"
      ],
      "metadata": {
        "id": "8byM_W37MEwk"
      },
      "execution_count": null,
      "outputs": []
    },
    {
      "cell_type": "code",
      "source": [
        "#check a given string is a pallindrome or not\n",
        "n=str(input())\n",
        "s=\"\"\n",
        "for i in n:\n",
        "  s=i+s\n",
        "if n==s:\n",
        "  print(\"pallindrome\")\n",
        "else:\n",
        "  print(\"not pallindrome\")"
      ],
      "metadata": {
        "id": "Sy83MLpW14k7"
      },
      "execution_count": null,
      "outputs": []
    },
    {
      "cell_type": "code",
      "source": [
        "#find the gcd of two numbers with and without recursion(5,3=1)\n",
        "a=int(input())\n",
        "b=int(input())\n",
        "math.gcd(a,b)"
      ],
      "metadata": {
        "id": "rAQ5MUIiMe-L"
      },
      "execution_count": null,
      "outputs": []
    },
    {
      "cell_type": "code",
      "source": [
        "def gcd(a,b):\n",
        "  if b==0:\n",
        "    return a\n",
        "  else:\n",
        "    return gcd(a,a%b)\n",
        "a=int(input())\n",
        "b=int(input())\n",
        "res=gcd(a,b)\n",
        "print(res)"
      ],
      "metadata": {
        "id": "bTfEQ6TT-1YL"
      },
      "execution_count": null,
      "outputs": []
    },
    {
      "cell_type": "code",
      "source": [
        "#print sum of even digits in a given number\n",
        "n=int(input())\n",
        "x=0\n",
        "while n>0:\n",
        "  d=n%10\n",
        "  if d%2==0:\n",
        "    x=x+d\n",
        "  n=n//10\n",
        "print(x)"
      ],
      "metadata": {
        "id": "7a4EhpJZMw_s"
      },
      "execution_count": null,
      "outputs": []
    },
    {
      "cell_type": "code",
      "source": [
        "#calculate the product of digits of a number\n",
        "n=int(input())\n",
        "b=1\n",
        "while n>0:\n",
        "  d=n%10\n",
        "  b=b*d\n",
        "  n=n//10\n",
        "print(b)"
      ],
      "metadata": {
        "id": "2v5pAzH7NAU0"
      },
      "execution_count": null,
      "outputs": []
    },
    {
      "cell_type": "code",
      "source": [
        "#write a program to calculate the sum of squares given by user(123=14)\n",
        "n=int(input())\n",
        "b=0\n",
        "while n>0:\n",
        "   d=n%10\n",
        "   b=b+d**2\n",
        "   n=n//10\n",
        "print(b)"
      ],
      "metadata": {
        "id": "ZCML0D3lNMyr"
      },
      "execution_count": null,
      "outputs": []
    },
    {
      "cell_type": "code",
      "source": [
        "#given a string is s= abcdefcba how many times ith character from the front equals last ith element\n",
        "#print(countfrontbackmatches('abcdefcba'))\n",
        "def ith_capital(x):\n",
        "  a=len(x)\n",
        "  b=a//2\n",
        "  sum=0\n",
        "  for i in range(1,b+1):\n",
        "    if x[(i-1)]==x[-i]:\n",
        "      sum = sum + 1\n",
        "  return sum\n",
        "x=str(input())\n",
        "print(ith_capital(x))"
      ],
      "metadata": {
        "id": "qEQPMyH7NW5z"
      },
      "execution_count": null,
      "outputs": []
    },
    {
      "cell_type": "code",
      "source": [
        "#given an integer n, return a list containing 1223334444.. and finaly n repeated n times(n>0)\n",
        "#print(repeatnumtimes(4))\n",
        "n=int(input())\n",
        "a=[]\n",
        "for i in range (n+1):\n",
        "  for j in range(i):\n",
        "    a.append(i)\n",
        "print(a)"
      ],
      "metadata": {
        "id": "Ja1i6UEjODx2"
      },
      "execution_count": null,
      "outputs": []
    },
    {
      "cell_type": "code",
      "source": [
        "#print number of vowels and consonents in a given string(gitam university)\n",
        "a=str(input())\n",
        "x=0\n",
        "y=0\n",
        "a=a.lower()\n",
        "for i in a:\n",
        "  if i=='a' or i=='e' or i=='i' or i=='o' or i=='u':\n",
        "    x=x+1\n",
        "  elif i >= 'a' and i<='z':\n",
        "    y=y+1\n",
        "print(\"vowels = {}\".format(x))\n",
        "print(\"consonents = {}\".format(y))"
      ],
      "metadata": {
        "id": "bgOo-BG4PFXL"
      },
      "execution_count": null,
      "outputs": []
    },
    {
      "cell_type": "code",
      "source": [
        "#given two integers a and b.if a <b ,print all numbers between in ascending order.if a>b print all numbers between in decending order\n",
        "a=int(input())\n",
        "b=int(input())\n",
        "if a<b:\n",
        "  for i in range(a,b+1):\n",
        "    print(i)\n",
        "if a>b:\n",
        "  for i in reversed(range(b,a+1)):\n",
        "    print(i)\n",
        "    "
      ],
      "metadata": {
        "id": "L9cV7iOmPgA8"
      },
      "execution_count": null,
      "outputs": []
    },
    {
      "cell_type": "code",
      "source": [
        "#program to print greatest of three numbers\n",
        "a=int(input())\n",
        "b=int(input())\n",
        "c=int(input())\n",
        "if a>b and a>c:\n",
        "  print(a)\n",
        "elif b>c and b>a:\n",
        "  print(b)\n",
        "else:\n",
        "  print(c)"
      ],
      "metadata": {
        "id": "cNE0x2lTP6M8"
      },
      "execution_count": null,
      "outputs": []
    },
    {
      "cell_type": "code",
      "source": [
        "#write a program to print numbers of strings where the string length is 2 or more and the first and last are same from given input\n",
        "x=[\"xyz\",\"1221\",\"abc\",\"aba\"]\n",
        "for i in x:\n",
        "  if len(i)>2:\n",
        "    if i[0]==i[-1]:\n",
        "      print(i)"
      ],
      "metadata": {
        "id": "0RkNwQMEQCEy"
      },
      "execution_count": null,
      "outputs": []
    },
    {
      "cell_type": "code",
      "source": [
        "#round trip of 3+3=6 km.no of days and no of round trips.<40000 meters (need to walk more ) >40000 meters (good job)\n",
        "a=int(input()) #days\n",
        "b=int(input()) #round trips\n",
        "c=a*b*6000\n",
        "if c>=40000:\n",
        "  print(\"Good job\")\n",
        "else:\n",
        "  print(\"Need to walk more\")"
      ],
      "metadata": {
        "id": "qzuPBYTqROqj"
      },
      "execution_count": null,
      "outputs": []
    },
    {
      "cell_type": "code",
      "source": [
        "#given alist of students l and a charter, display thenames of the students whose first character is a gien character\n",
        "#print(student details([]))\n",
        "n=input(\"Enter letter to be verified \")\n",
        "n=n.lower()\n",
        "r=[]\n",
        "s=0\n",
        "for i in range(int(input(\"Enter no. of students \"))):\n",
        "    a=input(f\"Enter name of student no. {i+1} \")\n",
        "    a=a.lower()\n",
        "    p=a[0]\n",
        "    if n==p :\n",
        "       s+=1\n",
        "       r.append(a)\n",
        "print(f\"Total {s} students matched\\nThey are {r}\")"
      ],
      "metadata": {
        "id": "nA1euNs-SCH0"
      },
      "execution_count": null,
      "outputs": []
    },
    {
      "cell_type": "code",
      "source": [
        "#given a list of city names whose length is greater than the given length\n",
        "a=['delhi','goa','agra','patna','hyderabad','vizag']\n",
        "b=int(input())\n",
        "c=[]\n",
        "for i in a:\n",
        "  if len(i)>=b:\n",
        "    c.append(i)\n",
        "print(c)"
      ],
      "metadata": {
        "id": "wTi56wAKSlIG"
      },
      "execution_count": null,
      "outputs": []
    }
  ]
}