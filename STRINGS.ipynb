{
  "nbformat": 4,
  "nbformat_minor": 0,
  "metadata": {
    "colab": {
      "name": "STRINGS.ipynb",
      "provenance": [],
      "authorship_tag": "ABX9TyMDAHE0wNZ5wcMsEvK76rx9",
      "include_colab_link": true
    },
    "kernelspec": {
      "name": "python3",
      "display_name": "Python 3"
    },
    "language_info": {
      "name": "python"
    }
  },
  "cells": [
    {
      "cell_type": "markdown",
      "metadata": {
        "id": "view-in-github",
        "colab_type": "text"
      },
      "source": [
        "<a href=\"https://colab.research.google.com/github/sreeharitheja-37/cprogram/blob/main/STRINGS.ipynb\" target=\"_parent\"><img src=\"https://colab.research.google.com/assets/colab-badge.svg\" alt=\"Open In Colab\"/></a>"
      ]
    },
    {
      "cell_type": "code",
      "source": [
        "a=\"\"\" i am sreehari , coming from dds hostel\n",
        " by walk to the class at ict bhavan at 9AM\"\"\"\n",
        "print(a)\n",
        "len(a)"
      ],
      "metadata": {
        "colab": {
          "base_uri": "https://localhost:8080/"
        },
        "id": "cbwDcFNe-GYo",
        "outputId": "5f67b419-fa08-4b2b-8701-3c570934499f"
      },
      "execution_count": 8,
      "outputs": [
        {
          "output_type": "stream",
          "name": "stdout",
          "text": [
            " i am sreehari , coming from dds hostel\n",
            " by walk to the class at ict bhavan at 9AM\n"
          ]
        },
        {
          "output_type": "execute_result",
          "data": {
            "text/plain": [
              "82"
            ]
          },
          "metadata": {},
          "execution_count": 8
        }
      ]
    },
    {
      "cell_type": "code",
      "source": [
        "#check string\n",
        "a=\"\"\" i am sreehari , coming from dds hostel\n",
        " by walk to the class at ict bhavan at 9AM\"\"\"\n",
        "print(\"from\"in a)\n",
        "print(\"From\"in a)"
      ],
      "metadata": {
        "colab": {
          "base_uri": "https://localhost:8080/"
        },
        "id": "zxWg8L64ABK2",
        "outputId": "21198089-bb81-4190-dbcb-0047732b1600"
      },
      "execution_count": 12,
      "outputs": [
        {
          "output_type": "stream",
          "name": "stdout",
          "text": [
            "True\n",
            "False\n"
          ]
        }
      ]
    },
    {
      "cell_type": "code",
      "source": [
        "#if not\n",
        "a=\"\"\" i am sreehari , coming from dds hostel\n",
        " by walk to the class at ict bhavan at 9AM\"\"\"\n",
        "print(\"bhavan\" not in a) \n",
        "print(\"some\" not in a)"
      ],
      "metadata": {
        "colab": {
          "base_uri": "https://localhost:8080/"
        },
        "id": "JEX7rwiPBQt3",
        "outputId": "f01a79f7-cacf-427a-afde-80baa9f4cd24"
      },
      "execution_count": 15,
      "outputs": [
        {
          "output_type": "stream",
          "name": "stdout",
          "text": [
            "False\n",
            "True\n"
          ]
        }
      ]
    },
    {
      "cell_type": "code",
      "source": [
        "a=\"\"\" i am sreehari , coming from dds hostel\n",
        " by walk to the class at ict bhavan at 9AM\"\"\"\n",
        "print(\"am\"in a,\"me\"in a) "
      ],
      "metadata": {
        "colab": {
          "base_uri": "https://localhost:8080/"
        },
        "id": "HScA1fjKCgcF",
        "outputId": "663952f0-7b17-478a-a9be-1c29da503f51"
      },
      "execution_count": 16,
      "outputs": [
        {
          "output_type": "stream",
          "name": "stdout",
          "text": [
            "True False\n"
          ]
        }
      ]
    },
    {
      "cell_type": "code",
      "source": [
        "#slicing of a string\n",
        "a=\"i went to RRR movie\"\n",
        "print(a[0:5],a[4])\n",
        "print(a[3:4],a[-5:-1])"
      ],
      "metadata": {
        "colab": {
          "base_uri": "https://localhost:8080/"
        },
        "id": "g9nxktDECzc2",
        "outputId": "e2b8c746-2e8c-46f6-d278-568d61a3e09b"
      },
      "execution_count": 25,
      "outputs": [
        {
          "output_type": "stream",
          "name": "stdout",
          "text": [
            "i wen n\n",
            "e movi\n"
          ]
        }
      ]
    },
    {
      "cell_type": "code",
      "source": [
        "#reverse of a string\n",
        "a=\"\""
      ],
      "metadata": {
        "id": "z4RK_Qu6Fj69"
      },
      "execution_count": null,
      "outputs": []
    },
    {
      "cell_type": "code",
      "source": [
        "#modifying a string\n",
        "a=\" i went to RRR movie \"\n",
        "print(a.upper()) \n",
        "print(a.lower())\n",
        "print(a.strip()) #removes whitespace\n",
        "print(a.replace(\"w\",\"v\"))\n",
        "print(a.replace(\"R\",\"I\"))\n"
      ],
      "metadata": {
        "colab": {
          "base_uri": "https://localhost:8080/"
        },
        "id": "fdt21RWIGVYk",
        "outputId": "e37bfe5c-d0d5-4ae6-afd5-271385d6cab1"
      },
      "execution_count": 33,
      "outputs": [
        {
          "output_type": "stream",
          "name": "stdout",
          "text": [
            " I WENT TO RRR MOVIE \n",
            " i went to rrr movie \n",
            "i went to RRR movie\n",
            " i vent to RRR movie \n",
            " i went to III movie \n"
          ]
        }
      ]
    },
    {
      "cell_type": "code",
      "source": [
        "#String concatenation\n",
        "a = \"123\"\n",
        "b = \"World\"\n",
        "c = a + b\n",
        "print(c)\n",
        "print(a+\" \"+b)"
      ],
      "metadata": {
        "colab": {
          "base_uri": "https://localhost:8080/"
        },
        "id": "Uz8NoQiJKCGj",
        "outputId": "792630d8-d227-41cd-bcee-3d455ab6e2b3"
      },
      "execution_count": 36,
      "outputs": [
        {
          "output_type": "stream",
          "name": "stdout",
          "text": [
            "123World\n",
            "123 World\n"
          ]
        }
      ]
    },
    {
      "cell_type": "code",
      "source": [
        "#format strings\n",
        "balls=1\n",
        "bats=2\n",
        "avinash=\"avinash has {} bats and {}balls\"\n",
        "print(avinash.format(bats,balls))"
      ],
      "metadata": {
        "colab": {
          "base_uri": "https://localhost:8080/"
        },
        "id": "zZPo0FC1OPC3",
        "outputId": "45a02871-5272-435c-a7b5-ab535695c80c"
      },
      "execution_count": 37,
      "outputs": [
        {
          "output_type": "stream",
          "name": "stdout",
          "text": [
            "avinash has 2 bats and 1balls\n"
          ]
        }
      ]
    }
  ]
}