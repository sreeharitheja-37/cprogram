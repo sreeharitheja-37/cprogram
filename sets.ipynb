{
  "nbformat": 4,
  "nbformat_minor": 0,
  "metadata": {
    "colab": {
      "name": "sets.ipynb",
      "provenance": [],
      "authorship_tag": "ABX9TyNVDFURRiqqP+90TVmxb1fK",
      "include_colab_link": true
    },
    "kernelspec": {
      "name": "python3",
      "display_name": "Python 3"
    },
    "language_info": {
      "name": "python"
    }
  },
  "cells": [
    {
      "cell_type": "markdown",
      "metadata": {
        "id": "view-in-github",
        "colab_type": "text"
      },
      "source": [
        "<a href=\"https://colab.research.google.com/github/sreeharitheja-37/cprogram/blob/main/sets.ipynb\" target=\"_parent\"><img src=\"https://colab.research.google.com/assets/colab-badge.svg\" alt=\"Open In Colab\"/></a>"
      ]
    },
    {
      "cell_type": "code",
      "execution_count": 3,
      "metadata": {
        "colab": {
          "base_uri": "https://localhost:8080/"
        },
        "id": "1ZhdVc_ERQNa",
        "outputId": "e91d996a-aa4f-4a88-938b-160e66b9dd1e"
      },
      "outputs": [
        {
          "output_type": "stream",
          "name": "stdout",
          "text": [
            "harish\n",
            "balaji\n",
            "avinash\n",
            "zayn\n",
            "ravi\n"
          ]
        }
      ],
      "source": [
        "#loop\n",
        "animals={\"avinash\",\"ravi\",\"balaji\",\"harish\",\"zayn\"}\n",
        "for x in animals:\n",
        " print(x)"
      ]
    },
    {
      "cell_type": "code",
      "source": [
        "animals={\"avinash\",\"ravi\",\"balaji\",\"harish\",\"zayn\"}\n",
        "print(\"avinash\" in animals)"
      ],
      "metadata": {
        "colab": {
          "base_uri": "https://localhost:8080/"
        },
        "id": "mdeCbFo_Vwvy",
        "outputId": "af91aaf9-0ae1-4d77-b99b-91add49ccc5d"
      },
      "execution_count": 4,
      "outputs": [
        {
          "output_type": "stream",
          "name": "stdout",
          "text": [
            "True\n"
          ]
        }
      ]
    },
    {
      "cell_type": "code",
      "source": [
        "#add\n",
        "animals={\"avinash\",\"ravi\",\"balaji\",\"harish\",\"zayn\"}\n",
        "animals.add(\"karthik\")\n",
        "print(animals)\n",
        "humans={\"surya\",\"srihari\",\"satvik\"}\n",
        "animals.update(humans)\n",
        "print(animals)\n",
        "num=[1,2,3,4]\n",
        "animals.update(num)\n",
        "print(animals)"
      ],
      "metadata": {
        "colab": {
          "base_uri": "https://localhost:8080/"
        },
        "id": "okmtE9ObV6Ab",
        "outputId": "4f6e9f36-82f8-4069-a778-aadb34064503"
      },
      "execution_count": 7,
      "outputs": [
        {
          "output_type": "stream",
          "name": "stdout",
          "text": [
            "{'harish', 'karthik', 'balaji', 'avinash', 'zayn', 'ravi'}\n",
            "{'harish', 'karthik', 'srihari', 'balaji', 'avinash', 'zayn', 'surya', 'ravi', 'satvik'}\n",
            "{1, 2, 3, 4, 'harish', 'karthik', 'srihari', 'balaji', 'avinash', 'zayn', 'surya', 'ravi', 'satvik'}\n"
          ]
        }
      ]
    },
    {
      "cell_type": "code",
      "source": [
        "#pop\n",
        "#as sets are unordered pop will remove randomly\n",
        "animals={\"avinash\",\"ravi\",\"balaji\",\"harish\",\"zayn\"}\n",
        "animals.pop()\n",
        "print(animals)\n"
      ],
      "metadata": {
        "colab": {
          "base_uri": "https://localhost:8080/"
        },
        "id": "rvJRTCSGYV07",
        "outputId": "5591e151-ebc2-4bce-8d4f-bf3efa19d05d"
      },
      "execution_count": 9,
      "outputs": [
        {
          "output_type": "stream",
          "name": "stdout",
          "text": [
            "{'balaji', 'avinash', 'zayn', 'ravi'}\n"
          ]
        }
      ]
    },
    {
      "cell_type": "code",
      "source": [
        "#clear empties the set\n",
        "#del deletes the set comletely\n",
        "fruits = {\"apple\", \"banana\", \"cherry\"}\n",
        "fruits.clear()\n",
        "print(fruits)\n",
        "del fruits\n",
        "print(fruits)"
      ],
      "metadata": {
        "colab": {
          "base_uri": "https://localhost:8080/",
          "height": 217
        },
        "id": "u0vlxukPYWI7",
        "outputId": "9b0ea3f1-b0d3-4d04-da90-aaf52b0103bf"
      },
      "execution_count": 12,
      "outputs": [
        {
          "output_type": "stream",
          "name": "stdout",
          "text": [
            "set()\n"
          ]
        },
        {
          "output_type": "error",
          "ename": "NameError",
          "evalue": "ignored",
          "traceback": [
            "\u001b[0;31m---------------------------------------------------------------------------\u001b[0m",
            "\u001b[0;31mNameError\u001b[0m                                 Traceback (most recent call last)",
            "\u001b[0;32m<ipython-input-12-361375295c0b>\u001b[0m in \u001b[0;36m<module>\u001b[0;34m()\u001b[0m\n\u001b[1;32m      5\u001b[0m \u001b[0mprint\u001b[0m\u001b[0;34m(\u001b[0m\u001b[0mfruits\u001b[0m\u001b[0;34m)\u001b[0m\u001b[0;34m\u001b[0m\u001b[0;34m\u001b[0m\u001b[0m\n\u001b[1;32m      6\u001b[0m \u001b[0;32mdel\u001b[0m \u001b[0mfruits\u001b[0m\u001b[0;34m\u001b[0m\u001b[0;34m\u001b[0m\u001b[0m\n\u001b[0;32m----> 7\u001b[0;31m \u001b[0mprint\u001b[0m\u001b[0;34m(\u001b[0m\u001b[0mfruits\u001b[0m\u001b[0;34m)\u001b[0m\u001b[0;34m\u001b[0m\u001b[0;34m\u001b[0m\u001b[0m\n\u001b[0m",
            "\u001b[0;31mNameError\u001b[0m: name 'fruits' is not defined"
          ]
        }
      ]
    },
    {
      "cell_type": "code",
      "source": [
        "#union\n",
        "#union() method that returns a new set containing all items from both sets\n",
        "#update() method that inserts all the items from one set into another\n",
        "animals={\"avinash\",\"ravi\",\"balaji\",\"harish\",\"zayn\"}\n",
        "humans={\"surya\",\"srihari\",\"satvik\"}\n",
        "set3=animals.union(humans)\n",
        "print(set3)"
      ],
      "metadata": {
        "colab": {
          "base_uri": "https://localhost:8080/"
        },
        "id": "OdJa71DeaIET",
        "outputId": "bf54ba62-59bf-4708-c84a-e0bdb7675d2b"
      },
      "execution_count": 13,
      "outputs": [
        {
          "output_type": "stream",
          "name": "stdout",
          "text": [
            "{'harish', 'zayn', 'surya', 'srihari', 'ravi', 'balaji', 'satvik', 'avinash'}\n"
          ]
        }
      ]
    },
    {
      "cell_type": "code",
      "source": [
        "#intersection,intersectiob_update\n",
        "#intersection() method will return a new set, that only contains the items that are present in both sets.\n",
        "animals={\"avinash\",\"ravi\",\"balaji\"}\n",
        "humans={\"surya\",\"srihari\",\"satvik\",\"ravi\"}\n",
        "animals.intersection_update(humans)\n",
        "print(animals)\n",
        "set3=animals.intersection(humans)\n",
        "print(set3)"
      ],
      "metadata": {
        "colab": {
          "base_uri": "https://localhost:8080/"
        },
        "id": "x5Xl_mIEWm7H",
        "outputId": "1da778b7-f167-499e-8908-2cf81869b988"
      },
      "execution_count": 17,
      "outputs": [
        {
          "output_type": "stream",
          "name": "stdout",
          "text": [
            "{'ravi'}\n",
            "{'ravi'}\n"
          ]
        }
      ]
    },
    {
      "cell_type": "code",
      "source": [
        "#symmetric_difference_update,symmetric_difference\n",
        "#symmetric_difference_update() method will keep only the elements that are NOT present in both sets.\n",
        "#symmetric_difference() method will return a new set, that contains only the elements that are NOT present in both sets.\n",
        "animals={\"avinash\",\"ravi\",\"balaji\"}\n",
        "humans={\"surya\",\"srihari\",\"satvik\",\"ravi\"}\n",
        "animals.symmetric_difference_update(humans)\n",
        "print(animals)\n",
        "set3=animals.symmetric_difference(humans)\n",
        "print(set3)"
      ],
      "metadata": {
        "colab": {
          "base_uri": "https://localhost:8080/"
        },
        "id": "ayhYwmkMdpZk",
        "outputId": "99976d68-dbae-49a8-f9d8-3f4acc459280"
      },
      "execution_count": 18,
      "outputs": [
        {
          "output_type": "stream",
          "name": "stdout",
          "text": [
            "{'srihari', 'balaji', 'avinash', 'surya', 'satvik'}\n",
            "{'balaji', 'avinash', 'ravi'}\n"
          ]
        }
      ]
    },
    {
      "cell_type": "code",
      "source": [
        "dict={ \"name\":str(input(\"enter name\")),\n",
        "        \"age\":int(input(\"enter age\")),\n",
        "        \"cgpa\":float(input(\"enter cgpa\"))        \n",
        "}\n",
        "print(dict)\n",
        "print(dict[\"cgpa\"])\n",
        "new cgpa={\"new cgpa\":float(input(\"new\"))}\n",
        "dict.update(new cgpa)"
      ],
      "metadata": {
        "colab": {
          "base_uri": "https://localhost:8080/",
          "height": 130
        },
        "id": "pakHEZFxhDfc",
        "outputId": "6b2cfae0-fe3c-4597-838e-99b16381074e"
      },
      "execution_count": 26,
      "outputs": [
        {
          "output_type": "error",
          "ename": "SyntaxError",
          "evalue": "ignored",
          "traceback": [
            "\u001b[0;36m  File \u001b[0;32m\"<ipython-input-26-809e6788d5cf>\"\u001b[0;36m, line \u001b[0;32m7\u001b[0m\n\u001b[0;31m    new cgpa={\"new cgpa\":float(input(\"new\")),}\u001b[0m\n\u001b[0m           ^\u001b[0m\n\u001b[0;31mSyntaxError\u001b[0m\u001b[0;31m:\u001b[0m invalid syntax\n"
          ]
        }
      ]
    }
  ]
}